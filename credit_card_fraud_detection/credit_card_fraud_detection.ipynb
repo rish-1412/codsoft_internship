{
  "nbformat": 4,
  "nbformat_minor": 0,
  "metadata": {
    "colab": {
      "provenance": [],
      "authorship_tag": "ABX9TyMFaW3nhCA84IIX7BEJ+2gK",
      "include_colab_link": true
    },
    "kernelspec": {
      "name": "python3",
      "display_name": "Python 3"
    },
    "language_info": {
      "name": "python"
    }
  },
  "cells": [
    {
      "cell_type": "markdown",
      "metadata": {
        "id": "view-in-github",
        "colab_type": "text"
      },
      "source": [
        "<a href=\"https://colab.research.google.com/github/rish-1412/codsoft_internship/blob/main/credit_card_fraud_detection.ipynb\" target=\"_parent\"><img src=\"https://colab.research.google.com/assets/colab-badge.svg\" alt=\"Open In Colab\"/></a>"
      ]
    },
    {
      "cell_type": "markdown",
      "source": [
        "#**CREDIT CARD FRAUD DETECTION**"
      ],
      "metadata": {
        "id": "hkTwi_ZrHrfM"
      }
    },
    {
      "cell_type": "code",
      "execution_count": 1,
      "metadata": {
        "id": "UqaqABCNGFXN"
      },
      "outputs": [],
      "source": [
        "# Import libraries for data handling and visualization\n",
        "import pandas as pd\n",
        "import numpy as np\n",
        "import matplotlib.pyplot as plt\n",
        "import seaborn as sns\n",
        "\n",
        "# Import libraries for machine learning and handling imbalance\n",
        "from sklearn.model_selection import train_test_split\n",
        "from sklearn.preprocessing import StandardScaler\n",
        "from sklearn.ensemble import RandomForestClassifier\n",
        "from sklearn.linear_model import LogisticRegression\n",
        "from sklearn.metrics import accuracy_score, classification_report, confusion_matrix, precision_recall_fscore_support\n",
        "from imblearn.over_sampling import SMOTE  # Handling class imbalance"
      ]
    },
    {
      "cell_type": "code",
      "source": [
        "# Load the dataset\n",
        "url = '/content/creditcard.csv'\n",
        "data = pd.read_csv(url)\n",
        "\n",
        "# Take a look at the first few rows\n",
        "data.head()\n",
        "\n",
        "# Check for missing values\n",
        "print(data.isnull().sum())\n",
        "\n",
        "# Display data summary\n",
        "print(data.describe())"
      ],
      "metadata": {
        "id": "ZOesaWm0HUJp",
        "colab": {
          "base_uri": "https://localhost:8080/"
        },
        "outputId": "65ff8453-e6f9-4394-bb91-4baa724baf58"
      },
      "execution_count": 2,
      "outputs": [
        {
          "output_type": "stream",
          "name": "stdout",
          "text": [
            "Time      0\n",
            "V1        0\n",
            "V2        0\n",
            "V3        0\n",
            "V4        0\n",
            "V5        0\n",
            "V6        0\n",
            "V7        0\n",
            "V8        0\n",
            "V9        0\n",
            "V10       0\n",
            "V11       0\n",
            "V12       0\n",
            "V13       0\n",
            "V14       0\n",
            "V15       0\n",
            "V16       0\n",
            "V17       0\n",
            "V18       0\n",
            "V19       0\n",
            "V20       0\n",
            "V21       0\n",
            "V22       0\n",
            "V23       0\n",
            "V24       0\n",
            "V25       0\n",
            "V26       0\n",
            "V27       0\n",
            "V28       0\n",
            "Amount    1\n",
            "Class     1\n",
            "dtype: int64\n",
            "               Time            V1            V2            V3            V4  \\\n",
            "count  13954.000000  13954.000000  13954.000000  13954.000000  13954.000000   \n",
            "mean   10121.161817     -0.235676      0.284287      0.846047      0.302775   \n",
            "std     7739.625811      1.720315      1.394804      1.561376      1.500595   \n",
            "min        0.000000    -27.670569    -34.607649    -24.667741     -4.657545   \n",
            "25%     2984.250000     -0.969786     -0.282728      0.407297     -0.623141   \n",
            "50%     9086.500000     -0.319439      0.252904      0.960978      0.220104   \n",
            "75%    17103.500000      1.162662      0.884741      1.607031      1.198942   \n",
            "max    24759.000000      1.960497     10.558600      4.101716     11.927512   \n",
            "\n",
            "                 V5            V6            V7            V8            V9  \\\n",
            "count  13954.000000  13954.000000  13954.000000  13954.000000  13954.000000   \n",
            "mean      -0.118730      0.128013     -0.157297     -0.016148      0.989827   \n",
            "std        1.289494      1.320395      1.238583      1.262024      1.214044   \n",
            "min      -32.092129    -23.496714    -26.548144    -23.632502     -7.175097   \n",
            "25%       -0.717155     -0.624025     -0.616307     -0.182270      0.288101   \n",
            "50%       -0.191627     -0.144198     -0.111960      0.016945      0.971414   \n",
            "75%        0.351255      0.508494      0.421830      0.265736      1.654184   \n",
            "max       34.099309     21.393069     34.303177     10.535558     10.392889   \n",
            "\n",
            "       ...           V21           V22           V23           V24  \\\n",
            "count  ...  13954.000000  13954.000000  13954.000000  13954.000000   \n",
            "mean   ...     -0.068037     -0.157471     -0.035585      0.011158   \n",
            "std    ...      0.873942      0.621845      0.499807      0.587225   \n",
            "min    ...    -11.468435     -8.593642    -19.254328     -2.512377   \n",
            "25%    ...     -0.271778     -0.549723     -0.173807     -0.339656   \n",
            "50%    ...     -0.132304     -0.122777     -0.045041      0.060208   \n",
            "75%    ...      0.018677      0.228997      0.069750      0.392734   \n",
            "max    ...     22.614889      4.534454     13.876221      3.200201   \n",
            "\n",
            "                V25           V26           V27           V28        Amount  \\\n",
            "count  13954.000000  13954.000000  13954.000000  13954.000000  13953.000000   \n",
            "mean       0.117019      0.035544      0.012787      0.002122     63.882442   \n",
            "std        0.427953      0.558290      0.399550      0.255710    177.887021   \n",
            "min       -4.781606     -1.338556     -7.976100     -3.575312      0.000000   \n",
            "25%       -0.135887     -0.374596     -0.076862     -0.014869      5.490000   \n",
            "50%        0.155162     -0.035825     -0.000950      0.016238     15.690000   \n",
            "75%        0.393032      0.375271      0.098516      0.072497     52.150000   \n",
            "max        5.525093      3.517346      8.254376      4.860769   7712.430000   \n",
            "\n",
            "              Class  \n",
            "count  13953.000000  \n",
            "mean       0.004013  \n",
            "std        0.063227  \n",
            "min        0.000000  \n",
            "25%        0.000000  \n",
            "50%        0.000000  \n",
            "75%        0.000000  \n",
            "max        1.000000  \n",
            "\n",
            "[8 rows x 31 columns]\n"
          ]
        }
      ]
    },
    {
      "cell_type": "code",
      "source": [
        "# Normalize 'Amount' column\n",
        "scaler = StandardScaler()\n",
        "data['Amount'] = scaler.fit_transform(data[['Amount']])\n",
        "\n",
        "# Split data into features (X) and target (y)\n",
        "X = data.drop('Class', axis=1)\n",
        "y = data['Class']\n",
        "\n",
        "# Split data into training and testing sets (80% train, 20% test)\n",
        "X_train, X_test, y_train, y_test = train_test_split(X, y, test_size=0.2, random_state=42)\n",
        "\n",
        "# *** Handle missing values in y_train (if any) ***\n",
        "# You can either remove rows with NaN values or impute them.\n",
        "# Here, we'll remove rows with NaN values in 'Class' from the training set:\n",
        "X_train = X_train[y_train.notna()]  # Keep rows where y_train is not NaN\n",
        "y_train = y_train[y_train.notna()]  # Keep corresponding y_train values\n",
        "\n",
        "# Handle class imbalance using SMOTE\n",
        "smote = SMOTE(random_state=42)\n",
        "X_train_smote, y_train_smote = smote.fit_resample(X_train, y_train)"
      ],
      "metadata": {
        "id": "527Sfy2KHY6D"
      },
      "execution_count": 3,
      "outputs": []
    },
    {
      "cell_type": "code",
      "source": [
        "# Initialize Random Forest Classifier\n",
        "rf_model = RandomForestClassifier(n_estimators=100, random_state=42)\n",
        "\n",
        "# Train the model\n",
        "rf_model.fit(X_train_smote, y_train_smote)\n",
        "\n",
        "# Make predictions on the test set\n",
        "y_pred_rf = rf_model.predict(X_test)"
      ],
      "metadata": {
        "id": "5lpf1xwVHbD_"
      },
      "execution_count": 4,
      "outputs": []
    },
    {
      "cell_type": "code",
      "source": [
        "# Initialize Logistic Regression\n",
        "lr_model = LogisticRegression(max_iter=100, random_state=42)\n",
        "\n",
        "# Train the model\n",
        "lr_model.fit(X_train_smote, y_train_smote)\n",
        "\n",
        "# Make predictions on the test set\n",
        "y_pred_lr = lr_model.predict(X_test)"
      ],
      "metadata": {
        "id": "tv8_x_F3Hdgx",
        "colab": {
          "base_uri": "https://localhost:8080/"
        },
        "collapsed": true,
        "outputId": "43fc97c7-abf6-478e-df5f-8d51acf3aefd"
      },
      "execution_count": 9,
      "outputs": [
        {
          "output_type": "stream",
          "name": "stderr",
          "text": [
            "/usr/local/lib/python3.10/dist-packages/sklearn/linear_model/_logistic.py:469: ConvergenceWarning: lbfgs failed to converge (status=1):\n",
            "STOP: TOTAL NO. of ITERATIONS REACHED LIMIT.\n",
            "\n",
            "Increase the number of iterations (max_iter) or scale the data as shown in:\n",
            "    https://scikit-learn.org/stable/modules/preprocessing.html\n",
            "Please also refer to the documentation for alternative solver options:\n",
            "    https://scikit-learn.org/stable/modules/linear_model.html#logistic-regression\n",
            "  n_iter_i = _check_optimize_result(\n"
          ]
        }
      ]
    },
    {
      "cell_type": "code",
      "source": [
        "# Random Forest Evaluation\n",
        "print(\"Random Forest Classifier Performance:\")\n",
        "print(f\"Accuracy: {accuracy_score(y_test, y_pred_rf):.4f}\")\n",
        "print(\"Classification Report:\\n\", classification_report(y_test, y_pred_rf))\n",
        "\n",
        "# Logistic Regression Evaluation\n",
        "print(\"Logistic Regression Performance:\")\n",
        "print(f\"Accuracy: {accuracy_score(y_test, y_pred_lr):.4f}\")\n",
        "print(\"Classification Report:\\n\", classification_report(y_test, y_pred_lr))\n",
        "\n",
        "# Confusion Matrix for Random Forest\n",
        "conf_matrix_rf = confusion_matrix(y_test, y_pred_rf)\n",
        "sns.heatmap(conf_matrix_rf, annot=True, fmt='d', cmap='Blues')\n",
        "plt.title('Random Forest Confusion Matrix')\n",
        "plt.show()\n",
        "\n",
        "# Confusion Matrix for Logistic Regression\n",
        "conf_matrix_lr = confusion_matrix(y_test, y_pred_lr)\n",
        "sns.heatmap(conf_matrix_lr, annot=True, fmt='d', cmap='Blues')\n",
        "plt.title('Logistic Regression Confusion Matrix')\n",
        "plt.show()"
      ],
      "metadata": {
        "id": "ZmkTiHneHhee",
        "colab": {
          "base_uri": "https://localhost:8080/",
          "height": 1000
        },
        "outputId": "8b24b76c-f2d3-4d8e-d857-f063169e7c6b"
      },
      "execution_count": 6,
      "outputs": [
        {
          "output_type": "stream",
          "name": "stdout",
          "text": [
            "Random Forest Classifier Performance:\n",
            "Accuracy: 0.9989\n",
            "Classification Report:\n",
            "               precision    recall  f1-score   support\n",
            "\n",
            "         0.0       1.00      1.00      1.00      2781\n",
            "         1.0       0.89      0.80      0.84        10\n",
            "\n",
            "    accuracy                           1.00      2791\n",
            "   macro avg       0.94      0.90      0.92      2791\n",
            "weighted avg       1.00      1.00      1.00      2791\n",
            "\n",
            "Logistic Regression Performance:\n",
            "Accuracy: 0.9950\n",
            "Classification Report:\n",
            "               precision    recall  f1-score   support\n",
            "\n",
            "         0.0       1.00      1.00      1.00      2781\n",
            "         1.0       0.40      0.80      0.53        10\n",
            "\n",
            "    accuracy                           0.99      2791\n",
            "   macro avg       0.70      0.90      0.77      2791\n",
            "weighted avg       1.00      0.99      1.00      2791\n",
            "\n"
          ]
        },
        {
          "output_type": "display_data",
          "data": {
            "text/plain": [
              "<Figure size 640x480 with 2 Axes>"
            ],
            "image/png": "[encoded data removed]"
          },
          "metadata": {}
        },
        {
          "output_type": "display_data",
          "data": {
            "text/plain": [
              "<Figure size 640x480 with 2 Axes>"
            ],
            "image/png": "[encoded data removed]"
          },
          "metadata": {}
        }
      ]
    },
    {
      "cell_type": "code",
      "source": [
        "accuracy_rf = accuracy_score(y_test, y_pred_rf)\n",
        "precision_rf, recall_rf, f1_rf, _ = precision_recall_fscore_support(y_test, y_pred_rf, average='binary')\n",
        "\n",
        "print(f\"Random Forest - Accuracy: {accuracy_rf:.4f}, Precision: {precision_rf:.4f}, Recall: {recall_rf:.4f}, F1-Score: {f1_rf:.4f}\")"
      ],
      "metadata": {
        "id": "MTrrUzICHkdp",
        "colab": {
          "base_uri": "https://localhost:8080/"
        },
        "outputId": "9bc0b0f8-1ddc-4c81-b49e-5314de66cbe0"
      },
      "execution_count": 7,
      "outputs": [
        {
          "output_type": "stream",
          "name": "stdout",
          "text": [
            "Random Forest - Accuracy: 0.9989, Precision: 0.8889, Recall: 0.8000, F1-Score: 0.8421\n"
          ]
        }
      ]
    },
    {
      "cell_type": "code",
      "source": [
        "accuracy_lr = accuracy_score(y_test, y_pred_lr)\n",
        "precision_lr, recall_lr, f1_lr, _ = precision_recall_fscore_support(y_test, y_pred_lr, average='binary')\n",
        "\n",
        "print(f\"Logistic Regression - Accuracy: {accuracy_lr:.4f}, Precision: {precision_lr:.4f}, Recall: {recall_lr:.4f}, F1-Score: {f1_lr:.4f}\")"
      ],
      "metadata": {
        "id": "wA7J_hTmHncJ",
        "colab": {
          "base_uri": "https://localhost:8080/"
        },
        "outputId": "f03c9562-1147-4b47-df9a-4490475e781f"
      },
      "execution_count": 8,
      "outputs": [
        {
          "output_type": "stream",
          "name": "stdout",
          "text": [
            "Logistic Regression - Accuracy: 0.9950, Precision: 0.4000, Recall: 0.8000, F1-Score: 0.5333\n"
          ]
        }
      ]
    }
  ]
}